{
 "cells": [
  {
   "cell_type": "code",
   "execution_count": 1,
   "metadata": {},
   "outputs": [
    {
     "name": "stdout",
     "output_type": "stream",
     "text": [
      "Requirement already satisfied: textstat in /Users/faviovazquez/anaconda3/lib/python3.7/site-packages (0.6.0)\n",
      "Requirement already satisfied: pyphen in /Users/faviovazquez/anaconda3/lib/python3.7/site-packages (from textstat) (0.9.5)\n"
     ]
    }
   ],
   "source": [
    "!pip install textstat"
   ]
  },
  {
   "cell_type": "markdown",
   "metadata": {},
   "source": [
    "# English"
   ]
  },
  {
   "cell_type": "code",
   "execution_count": 32,
   "metadata": {},
   "outputs": [],
   "source": [
    "import textstat"
   ]
  },
  {
   "cell_type": "code",
   "execution_count": 33,
   "metadata": {},
   "outputs": [],
   "source": [
    "textstat.set_lang(\"en\")"
   ]
  },
  {
   "cell_type": "code",
   "execution_count": 34,
   "metadata": {},
   "outputs": [],
   "source": [
    "text = \"\"\"\n",
    "At a time when more soldiers are committing suicide than are dying in battle, it is well to remember that, no matter how thoroughly indoctrinated the belief in the superiority of an abstraction, there remains within each of us a powerful life-force that can never be fully repressed. What Gandhi called Satyagraha – a “Truth-force” or “Soul-force” – remains deep within us as, perhaps, the greatest power at work upon each of us. The state – and the civilization it is helping to bring down – will continue to fight this life-force in every conceivable manner, not simply in the war system, but in efforts to regulate even the most miniscule details of life’s expressions.\n",
    "When the minds and the spirits of men and women combine to address, with intelligence, what we have done to ourselves – and are doing to our children and grandchildren – we may be able to walk away from our roles as servo-mechanisms to state and corporate power interests, and to discover how to live according to that life-force within each of us. To those unable or unwilling to confront the wickedness implicit in their robotic existences, there will be nothing but unfocused anger and giggling to accompany their trip into the awaiting black-hole..\n",
    "\"\"\""
   ]
  },
  {
   "cell_type": "code",
   "execution_count": 35,
   "metadata": {},
   "outputs": [
    {
     "data": {
      "text/plain": [
       "317"
      ]
     },
     "execution_count": 35,
     "metadata": {},
     "output_type": "execute_result"
    }
   ],
   "source": [
    "# Count Syllables\n",
    "textstat.syllable_count(text)"
   ]
  },
  {
   "cell_type": "code",
   "execution_count": 36,
   "metadata": {},
   "outputs": [
    {
     "data": {
      "text/plain": [
       "209"
      ]
     },
     "execution_count": 36,
     "metadata": {},
     "output_type": "execute_result"
    }
   ],
   "source": [
    "# Lexicon count\n",
    "textstat.lexicon_count(text, removepunct=True)"
   ]
  },
  {
   "cell_type": "code",
   "execution_count": 37,
   "metadata": {},
   "outputs": [
    {
     "data": {
      "text/plain": [
       "5"
      ]
     },
     "execution_count": 37,
     "metadata": {},
     "output_type": "execute_result"
    }
   ],
   "source": [
    "# Sentence count\n",
    "textstat.sentence_count(text)"
   ]
  },
  {
   "cell_type": "code",
   "execution_count": 38,
   "metadata": {},
   "outputs": [
    {
     "data": {
      "text/plain": [
       "37.51"
      ]
     },
     "execution_count": 38,
     "metadata": {},
     "output_type": "execute_result"
    }
   ],
   "source": [
    "# Flesch Reading Ease formula\n",
    "textstat.flesch_reading_ease(text)"
   ]
  },
  {
   "cell_type": "markdown",
   "metadata": {},
   "source": []
  },
  {
   "cell_type": "code",
   "execution_count": 39,
   "metadata": {},
   "outputs": [
    {
     "data": {
      "text/plain": [
       "18.4"
      ]
     },
     "execution_count": 39,
     "metadata": {},
     "output_type": "execute_result"
    }
   ],
   "source": [
    "# Flesch-Kincaid Grade Level\n",
    "textstat.flesch_kincaid_grade(text)"
   ]
  },
  {
   "cell_type": "markdown",
   "metadata": {},
   "source": []
  },
  {
   "cell_type": "code",
   "execution_count": 40,
   "metadata": {},
   "outputs": [
    {
     "data": {
      "text/plain": [
       "20.55"
      ]
     },
     "execution_count": 40,
     "metadata": {},
     "output_type": "execute_result"
    }
   ],
   "source": [
    "# Fog Scale (Gunning FOG Formula)\n",
    "textstat.gunning_fog(text)"
   ]
  },
  {
   "cell_type": "markdown",
   "metadata": {},
   "source": [
    "Meaning that a High school junior can read this."
   ]
  },
  {
   "cell_type": "code",
   "execution_count": 41,
   "metadata": {},
   "outputs": [
    {
     "data": {
      "text/plain": [
       "15.9"
      ]
     },
     "execution_count": 41,
     "metadata": {},
     "output_type": "execute_result"
    }
   ],
   "source": [
    "# SMOG Index # Similar to FOG\n",
    "textstat.smog_index(text)"
   ]
  },
  {
   "cell_type": "code",
   "execution_count": 42,
   "metadata": {},
   "outputs": [
    {
     "data": {
      "text/plain": [
       "22.5"
      ]
     },
     "execution_count": 42,
     "metadata": {},
     "output_type": "execute_result"
    }
   ],
   "source": [
    "# Automated Readability Index\n",
    "textstat.automated_readability_index(text)"
   ]
  },
  {
   "cell_type": "markdown",
   "metadata": {},
   "source": []
  },
  {
   "cell_type": "code",
   "execution_count": 12,
   "metadata": {},
   "outputs": [
    {
     "data": {
      "text/plain": [
       "8.94"
      ]
     },
     "execution_count": 12,
     "metadata": {},
     "output_type": "execute_result"
    }
   ],
   "source": [
    "# Coleman-Liau Index\n",
    "textstat.coleman_liau_index(text)"
   ]
  },
  {
   "cell_type": "code",
   "execution_count": 13,
   "metadata": {},
   "outputs": [
    {
     "data": {
      "text/plain": [
       "10.7"
      ]
     },
     "execution_count": 13,
     "metadata": {},
     "output_type": "execute_result"
    }
   ],
   "source": [
    "# Linsear Write Formula\n",
    "textstat.linsear_write_formula(text)"
   ]
  },
  {
   "cell_type": "code",
   "execution_count": 14,
   "metadata": {},
   "outputs": [
    {
     "data": {
      "text/plain": [
       "7.54"
      ]
     },
     "execution_count": 14,
     "metadata": {},
     "output_type": "execute_result"
    }
   ],
   "source": [
    "# Dale-Chall Readability Score\n",
    "textstat.dale_chall_readability_score(text)"
   ]
  },
  {
   "cell_type": "markdown",
   "metadata": {},
   "source": [
    "Meaning that an average 9th or 10th-grade student can read it."
   ]
  },
  {
   "cell_type": "code",
   "execution_count": 43,
   "metadata": {},
   "outputs": [
    {
     "data": {
      "text/plain": [
       "'20th and 21st grade'"
      ]
     },
     "execution_count": 43,
     "metadata": {},
     "output_type": "execute_result"
    }
   ],
   "source": [
    "# Readability Consensus\n",
    "textstat.text_standard(text, float_output=False)"
   ]
  },
  {
   "cell_type": "markdown",
   "metadata": {},
   "source": [
    "Meaning that in general someone that has finished 11th or 12th grade could understand this piece."
   ]
  },
  {
   "cell_type": "code",
   "execution_count": 17,
   "metadata": {},
   "outputs": [
    {
     "data": {
      "text/plain": [
       "6.08"
      ]
     },
     "execution_count": 17,
     "metadata": {},
     "output_type": "execute_result"
    }
   ],
   "source": [
    "# Time to read the text in seconds\n",
    "textstat.reading_time(text)"
   ]
  },
  {
   "cell_type": "code",
   "execution_count": 45,
   "metadata": {},
   "outputs": [],
   "source": [
    "# Run all at once\n",
    "import inspect\n",
    "funcs = [\"textstat.\" + inspect.getmembers(textstat, predicate=inspect.ismethod)[i][0] for i in range(1,28)]"
   ]
  },
  {
   "cell_type": "code",
   "execution_count": 46,
   "metadata": {},
   "outputs": [
    {
     "name": "stdout",
     "output_type": "stream",
     "text": [
      "avg_character_per_word\n",
      "4.88\n",
      " \n",
      "avg_letter_per_word\n",
      "4.77\n",
      " \n",
      "avg_sentence_length\n",
      "41.8\n",
      " \n",
      "avg_sentence_per_word\n",
      "0.02\n",
      " \n",
      "avg_syllables_per_word\n",
      "1.5\n",
      " \n",
      "char_count\n",
      "1020\n",
      " \n",
      "coleman_liau_index\n",
      "11.27\n",
      " \n",
      "dale_chall_readability_score\n",
      "9.11\n",
      " \n",
      "dale_chall_readability_score_v2\n",
      "9.11\n",
      " \n",
      "difficult_words\n",
      "45\n",
      " \n",
      "difficult_words_list\n",
      "['unable', 'repressed', 'confront', 'superiority', 'indoctrinated', 'awaiting', 'system', 'abstraction', 'doing', 'robotic', 'soldiers', 'miniscule', 'giggling', 'corporate', 'belief', 'greatest', 'efforts', 'suicide', 'continue', 'within', 'remains', 'regulate', 'simply', 'thoroughly', 'expressions', 'committing', 'interests', 'gandhi', 'spirits', 'intelligence', 'helping', 'existences', 'satyagraha', 'according', 'implicit', 'wickedness', 'details', 'civilization', 'manner', 'accompany', 'servo', 'unfocused', 'combine', 'mechanisms', 'conceivable']\n",
      " \n",
      "flesch_kincaid_grade\n",
      "18.4\n",
      " \n",
      "flesch_reading_ease\n",
      "37.51\n",
      " \n",
      "gunning_fog\n",
      "20.55\n",
      " \n",
      "letter_count\n",
      "996\n",
      " \n",
      "lexicon_count\n",
      "209\n",
      " \n",
      "linsear_write_formula\n",
      "20.333333333333332\n",
      " \n",
      "lix\n",
      "68.59\n",
      " \n",
      "polysyllabcount\n",
      "25\n",
      " \n",
      "reading_time\n",
      "14.94\n",
      " \n",
      "rix\n",
      "11.2\n",
      " \n",
      "sentence_count\n",
      "5\n",
      " \n",
      "set_lang\n",
      "None\n",
      " \n",
      "smog_index\n",
      "15.9\n",
      " \n",
      "spache_readability\n",
      "8.584474641148324\n",
      " \n",
      "syllable_count\n",
      "317\n",
      " \n",
      "text_standard\n",
      "20th and 21st grade\n",
      " \n"
     ]
    }
   ],
   "source": [
    "for elem in funcs:\n",
    "    method = eval(elem)\n",
    "    textstat.set_lang(\"en\")\n",
    "    print(elem.split(\".\")[1])\n",
    "    print(method(text))\n",
    "    print(\" \")"
   ]
  },
  {
   "cell_type": "markdown",
   "metadata": {},
   "source": [
    "# Spanish - Español"
   ]
  },
  {
   "cell_type": "code",
   "execution_count": 20,
   "metadata": {},
   "outputs": [],
   "source": [
    "text = \"\"\"\n",
    "La ciencia de datos es el foco principal de la mayoría de las ciencias y estudios en este momento, \n",
    "necesita muchas cosas como inteligencia artificial, programación, estadísticas, \n",
    "comprensión del negocio, habilidades de presentación efectivas y mucho más. \n",
    "Por eso no es fácil de entender o estudiar. Pero podemos hacerlo, lo estamos haciendo.\n",
    "La ciencia de datos se ha convertido en el marco de resolución de \n",
    "problemas estándar para la academia y la industria y va a ser así \n",
    "por un tiempo. Pero debemos recordar de dónde venimos, \n",
    "quiénes somos y hacia dónde vamos.\n",
    "\"\"\""
   ]
  },
  {
   "cell_type": "code",
   "execution_count": 21,
   "metadata": {},
   "outputs": [],
   "source": [
    "textstat.set_lang(\"es\")"
   ]
  },
  {
   "cell_type": "markdown",
   "metadata": {},
   "source": [
    "## Note: The only readibility function implemented is the Fernandez Huerta Readability Formula which is a variant of the Flesch Reading Ease formula"
   ]
  },
  {
   "cell_type": "code",
   "execution_count": 22,
   "metadata": {},
   "outputs": [
    {
     "data": {
      "text/plain": [
       "61.75"
      ]
     },
     "execution_count": 22,
     "metadata": {},
     "output_type": "execute_result"
    }
   ],
   "source": [
    "textstat.flesch_reading_ease(text)"
   ]
  },
  {
   "cell_type": "code",
   "execution_count": 23,
   "metadata": {},
   "outputs": [
    {
     "data": {
      "text/plain": [
       "6.92"
      ]
     },
     "execution_count": 23,
     "metadata": {},
     "output_type": "execute_result"
    }
   ],
   "source": [
    "# Time to read the text in seconds\n",
    "textstat.reading_time(text)"
   ]
  },
  {
   "cell_type": "code",
   "execution_count": 24,
   "metadata": {},
   "outputs": [
    {
     "data": {
      "text/plain": [
       "['venimos',\n",
       " 'resolución',\n",
       " 'muchas',\n",
       " 'estadísticas',\n",
       " 'hacerlo',\n",
       " 'dónde',\n",
       " 'mucho',\n",
       " 'pero',\n",
       " 'estudios',\n",
       " 'presentación',\n",
       " 'ciencia',\n",
       " 'datos',\n",
       " 'comprensión',\n",
       " 'mayoría',\n",
       " 'negocio',\n",
       " 'como',\n",
       " 'vamos',\n",
       " 'quiénes',\n",
       " 'momento',\n",
       " 'inteligencia',\n",
       " 'programación',\n",
       " 'industria',\n",
       " 'habilidades',\n",
       " 'convertido',\n",
       " 'ciencias',\n",
       " 'efectivas',\n",
       " 'estamos',\n",
       " 'marco',\n",
       " 'estándar',\n",
       " 'recordar',\n",
       " 'cosas',\n",
       " 'estudiar',\n",
       " 'principal',\n",
       " 'artificial',\n",
       " 'fácil',\n",
       " 'necesita',\n",
       " 'hacia',\n",
       " 'entender',\n",
       " 'debemos',\n",
       " 'academia',\n",
       " 'tiempo',\n",
       " 'para',\n",
       " 'somos',\n",
       " 'problemas',\n",
       " 'haciendo',\n",
       " 'foco',\n",
       " 'podemos',\n",
       " 'este']"
      ]
     },
     "execution_count": 24,
     "metadata": {},
     "output_type": "execute_result"
    }
   ],
   "source": [
    "# This works so-so in Spanish\n",
    "textstat.difficult_words_list(text)"
   ]
  },
  {
   "cell_type": "markdown",
   "metadata": {},
   "source": [
    "# Check spelling"
   ]
  },
  {
   "cell_type": "code",
   "execution_count": 26,
   "metadata": {},
   "outputs": [
    {
     "name": "stdout",
     "output_type": "stream",
     "text": [
      "Collecting autocorrect\n",
      "  Downloading https://files.pythonhosted.org/packages/a9/b0/a1d628fa192e8ebf124b4cebc2a42b4e3aa65b8052fdf4888e04fadf3e8d/autocorrect-1.1.0.tar.gz (1.8MB)\n",
      "Building wheels for collected packages: autocorrect\n",
      "  Building wheel for autocorrect (setup.py): started\n",
      "  Building wheel for autocorrect (setup.py): finished with status 'done'\n",
      "  Created wheel for autocorrect: filename=autocorrect-1.1.0-cp37-none-any.whl size=1810772 sha256=d9bfba981f19045e9dd11fa93ac8e1f5cfce6054e380d5f260e909b9a85dc20b\n",
      "  Stored in directory: C:\\Users\\Pranav\\AppData\\Local\\pip\\Cache\\wheels\\78\\7f\\b1\\527522820ae623df6a2dbe14f778d23adaea4bebe43f7ebcfe\n",
      "Successfully built autocorrect\n",
      "Installing collected packages: autocorrect\n",
      "Successfully installed autocorrect-1.1.0\n"
     ]
    }
   ],
   "source": [
    "!pip install autocorrect"
   ]
  },
  {
   "cell_type": "code",
   "execution_count": 47,
   "metadata": {},
   "outputs": [],
   "source": [
    "# Here I'm misspelling :\n",
    "# presentation as presentatio\n",
    "# focus as focsu\n",
    "# framework as framwork \n",
    "text = \"\"\"\n",
    "Data science is the main focsu of most sciences and studies right now, \n",
    "it needs a lot of things like AI, programming, statistics, \n",
    "business understanding, effective presentatio skills and much more. \n",
    "That's why it's not easy to understand or study. But we can do it, we are doing it.\n",
    "Data science has become the standard solving problem framwork for academia and \n",
    "the industry and it's going to be like that for a while. But we need to remember \n",
    "where we are coming from, who we are and where we are going.\n",
    "\"\"\""
   ]
  },
  {
   "cell_type": "code",
   "execution_count": 48,
   "metadata": {},
   "outputs": [
    {
     "data": {
      "text/plain": [
       "\"\\nData science is the main focus of most sciences and studies right now, \\nit needs a lot of things like Ai, programming, statistics, \\nbusiness understanding, effective presentation skills and much more. \\nThat's why it's not easy to understand or study. But we can do it, we are doing it.\\nData science has become the standard solving problem framework for academia and \\nthe industry and it's going to be like that for a while. But we need to remember \\nwhere we are coming from, who we are and where we are going.\\n\""
      ]
     },
     "execution_count": 48,
     "metadata": {},
     "output_type": "execute_result"
    }
   ],
   "source": [
    "from autocorrect import Speller\n",
    "\n",
    "check = Speller(lang='en')\n",
    "\n",
    "check(text)"
   ]
  },
  {
   "cell_type": "code",
   "execution_count": null,
   "metadata": {},
   "outputs": [],
   "source": []
  }
 ],
 "metadata": {
  "kernelspec": {
   "display_name": "Python 3",
   "language": "python",
   "name": "python3"
  },
  "language_info": {
   "codemirror_mode": {
    "name": "ipython",
    "version": 3
   },
   "file_extension": ".py",
   "mimetype": "text/x-python",
   "name": "python",
   "nbconvert_exporter": "python",
   "pygments_lexer": "ipython3",
   "version": "3.7.4"
  }
 },
 "nbformat": 4,
 "nbformat_minor": 4
}
